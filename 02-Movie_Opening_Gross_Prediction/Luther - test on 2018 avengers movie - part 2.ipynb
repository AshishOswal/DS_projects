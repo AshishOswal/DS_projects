{
 "cells": [
  {
   "cell_type": "markdown",
   "metadata": {},
   "source": [
    "# Luther - Data Cleaning and Merging Dataframes"
   ]
  },
  {
   "cell_type": "markdown",
   "metadata": {},
   "source": [
    "This is part 2 of the Luther Project. In part 1, I've created 6 different dataframes that will be merged and cleaned in this notebook. The final merged dataframe \"merged2.pkl\" will be used in the last notebook \"03 - Luther - Linear Regression\" to develop a final linear regression model for predicting movie ticket sales on opening week (as well as opening gross adjusted to ticket price)."
   ]
  },
  {
   "cell_type": "code",
   "execution_count": null,
   "metadata": {},
   "outputs": [],
   "source": []
  },
  {
   "cell_type": "code",
   "execution_count": 22,
   "metadata": {},
   "outputs": [],
   "source": [
    "import pickle\n",
    "import requests\n",
    "from bs4 import BeautifulSoup\n",
    "import re\n",
    "import pandas as pd\n",
    "import time\n",
    "import seaborn as sns\n",
    "import datetime"
   ]
  },
  {
   "cell_type": "code",
   "execution_count": 23,
   "metadata": {},
   "outputs": [],
   "source": [
    "# Import all the dataframes\n",
    "mojog_df = pd.read_pickle('data/mojog_2018.pkl')\n",
    "#unemp_df = pd.read_pickle(\"data/unemp_df.pkl\")\n",
    "youtube_df = pd.read_pickle('data/youtube_2018.pkl')\n",
    "omdb_df = pd.read_pickle('data/omdb_2018.pkl')\n",
    "director_df = pd.read_pickle('data/director_df.pkl')\n",
    "actor_df = pd.read_pickle('data/actor_df.pkl')"
   ]
  },
  {
   "cell_type": "code",
   "execution_count": 24,
   "metadata": {},
   "outputs": [
    {
     "name": "stdout",
     "output_type": "stream",
     "text": [
      "<class 'pandas.core.frame.DataFrame'>\n",
      "Int64Index: 2 entries, 0 to 1\n",
      "Data columns (total 9 columns):\n",
      "movie_name    2 non-null object\n",
      "movie         2 non-null object\n",
      "opening       2 non-null int64\n",
      "date_time     2 non-null datetime64[ns]\n",
      "theaters      2 non-null int64\n",
      "tot_gross     2 non-null int64\n",
      "actors        2 non-null object\n",
      "directors     2 non-null object\n",
      "gtrend        2 non-null float64\n",
      "dtypes: datetime64[ns](1), float64(1), int64(3), object(4)\n",
      "memory usage: 160.0+ bytes\n"
     ]
    }
   ],
   "source": [
    "#clean mojo df\n",
    "mojog_df.opening = mojog_df.opening.replace(\"\\$\",\"\", regex = True).replace(\",\",\"\", regex = True).str.strip()\n",
    "mojog_df.opening = pd.to_numeric(mojog_df.opening)\n",
    "mojog_df.tot_gross = mojog_df.tot_gross.replace(\"\\$\",\"\", regex = True).replace(\",\",\"\", regex = True).str.strip()\n",
    "mojog_df.tot_gross = pd.to_numeric(mojog_df.tot_gross)\n",
    "mojog_df.theaters = mojog_df.theaters.replace(\",\",\"\", regex = True).str.strip()\n",
    "mojog_df.theaters = pd.to_numeric(mojog_df.theaters)\n",
    "mojog_df.info()"
   ]
  },
  {
   "cell_type": "code",
   "execution_count": 25,
   "metadata": {},
   "outputs": [
    {
     "name": "stdout",
     "output_type": "stream",
     "text": [
      "<class 'pandas.core.frame.DataFrame'>\n",
      "RangeIndex: 2 entries, 0 to 1\n",
      "Data columns (total 5 columns):\n",
      "movie_name    2 non-null object\n",
      "Yviews        2 non-null int64\n",
      "Ycomments     2 non-null int64\n",
      "Ydislikes     2 non-null int64\n",
      "Ylikes        2 non-null int64\n",
      "dtypes: int64(4), object(1)\n",
      "memory usage: 160.0+ bytes\n"
     ]
    }
   ],
   "source": [
    "# Clean youtube df \n",
    "# select youtube df relevant data\n",
    "youtube_df = youtube_df[[\"movie_name\", \"viewCount\", \"commentCount\", \"dislikeCount\", \"likeCount\"]]\n",
    "\n",
    "#replace nulls with 0\n",
    "youtube_df = youtube_df.fillna(0)\n",
    "# convert numeric str values to int\n",
    "youtube_df.viewCount = pd.to_numeric(youtube_df.viewCount)\n",
    "youtube_df.dislikeCount = pd.to_numeric(youtube_df.dislikeCount)\n",
    "youtube_df.commentCount = pd.to_numeric(youtube_df.commentCount)\n",
    "youtube_df.likeCount = pd.to_numeric(youtube_df.likeCount)\n",
    "youtube_df = youtube_df.rename(columns ={\"viewCount\":\"Yviews\", \"commentCount\": \"Ycomments\", \n",
    "                                         \"dislikeCount\": \"Ydislikes\", \"likeCount\":\"Ylikes\"})\n",
    "youtube_df.info()"
   ]
  },
  {
   "cell_type": "code",
   "execution_count": 26,
   "metadata": {},
   "outputs": [
    {
     "data": {
      "text/html": [
       "<div>\n",
       "<style scoped>\n",
       "    .dataframe tbody tr th:only-of-type {\n",
       "        vertical-align: middle;\n",
       "    }\n",
       "\n",
       "    .dataframe tbody tr th {\n",
       "        vertical-align: top;\n",
       "    }\n",
       "\n",
       "    .dataframe thead th {\n",
       "        text-align: right;\n",
       "    }\n",
       "</style>\n",
       "<table border=\"1\" class=\"dataframe\">\n",
       "  <thead>\n",
       "    <tr style=\"text-align: right;\">\n",
       "      <th></th>\n",
       "      <th>imdb</th>\n",
       "      <th>metacritic</th>\n",
       "      <th>movie</th>\n",
       "      <th>rated</th>\n",
       "      <th>rotten_tomatoes</th>\n",
       "      <th>runtime</th>\n",
       "      <th>year</th>\n",
       "    </tr>\n",
       "  </thead>\n",
       "  <tbody>\n",
       "    <tr>\n",
       "      <th>0</th>\n",
       "      <td>7.7</td>\n",
       "      <td>88</td>\n",
       "      <td>Black Panther</td>\n",
       "      <td>PG-13</td>\n",
       "      <td>96</td>\n",
       "      <td>134</td>\n",
       "      <td>2018</td>\n",
       "    </tr>\n",
       "    <tr>\n",
       "      <th>1</th>\n",
       "      <td>9.0</td>\n",
       "      <td>68</td>\n",
       "      <td>Avengers: Infinity War</td>\n",
       "      <td>PG-13</td>\n",
       "      <td>84</td>\n",
       "      <td>149</td>\n",
       "      <td>2018</td>\n",
       "    </tr>\n",
       "  </tbody>\n",
       "</table>\n",
       "</div>"
      ],
      "text/plain": [
       "   imdb  metacritic                   movie  rated  rotten_tomatoes  runtime  \\\n",
       "0   7.7          88           Black Panther  PG-13               96      134   \n",
       "1   9.0          68  Avengers: Infinity War  PG-13               84      149   \n",
       "\n",
       "   year  \n",
       "0  2018  \n",
       "1  2018  "
      ]
     },
     "execution_count": 26,
     "metadata": {},
     "output_type": "execute_result"
    }
   ],
   "source": [
    "omdb_df"
   ]
  },
  {
   "cell_type": "code",
   "execution_count": 27,
   "metadata": {
    "scrolled": true
   },
   "outputs": [
    {
     "name": "stdout",
     "output_type": "stream",
     "text": [
      "<class 'pandas.core.frame.DataFrame'>\n",
      "RangeIndex: 2 entries, 0 to 1\n",
      "Data columns (total 7 columns):\n",
      "imdb               2 non-null float64\n",
      "metacritic         2 non-null int64\n",
      "movie              2 non-null object\n",
      "rated              2 non-null object\n",
      "rotten_tomatoes    2 non-null int64\n",
      "runtime            2 non-null int64\n",
      "year               2 non-null int64\n",
      "dtypes: float64(1), int64(4), object(2)\n",
      "memory usage: 192.0+ bytes\n"
     ]
    }
   ],
   "source": [
    "# Clean omdb data\n",
    "# omdb_df.imdb = pd.to_numeric(omdb_df.imdb.replace(\"/10\",\"\", regex = True).str.strip())\n",
    "# omdb_df.metacritic = pd.to_numeric(omdb_df.metacritic.replace(\"/100\",\"\", regex = True).str.strip())\n",
    "# omdb_df.rotten_tomatoes = pd.to_numeric(omdb_df.rotten_tomatoes.replace(\"%\",\"\", regex = True).str.strip())\n",
    "# omdb_df.runtime = pd.to_numeric(omdb_df.runtime.replace(\"min\",\"\", regex = True).str.strip())\n",
    "# omdb_df.year = pd.to_numeric(omdb_df.year)\n",
    "omdb_df.info()"
   ]
  },
  {
   "cell_type": "code",
   "execution_count": 28,
   "metadata": {},
   "outputs": [
    {
     "name": "stdout",
     "output_type": "stream",
     "text": [
      "<class 'pandas.core.frame.DataFrame'>\n",
      "RangeIndex: 500 entries, 0 to 499\n",
      "Data columns (total 4 columns):\n",
      "dir_agross     500 non-null float64\n",
      "dir_gross      500 non-null float64\n",
      "dir_nmovies    500 non-null int64\n",
      "director       500 non-null object\n",
      "dtypes: float64(2), int64(1), object(1)\n",
      "memory usage: 15.7+ KB\n"
     ]
    }
   ],
   "source": [
    "# Clean directors data\n",
    "# Convert str to numeric\n",
    "director_df.dir_agross = pd.to_numeric(director_df.dir_agross.replace(\"\\$\",\"\", regex = True).str.strip())\n",
    "director_df.dir_gross = pd.to_numeric(director_df.dir_gross.replace(\"\\$\",\"\", regex = True)\n",
    "                                      .replace(\",\",\"\", regex = True).str.strip())\n",
    "director_df.dir_nmovies = pd.to_numeric(director_df.dir_nmovies)\n",
    "director_df.info()"
   ]
  },
  {
   "cell_type": "code",
   "execution_count": 29,
   "metadata": {
    "scrolled": true
   },
   "outputs": [
    {
     "name": "stdout",
     "output_type": "stream",
     "text": [
      "<class 'pandas.core.frame.DataFrame'>\n",
      "RangeIndex: 500 entries, 0 to 499\n",
      "Data columns (total 4 columns):\n",
      "act_agross     500 non-null float64\n",
      "act_gross      500 non-null float64\n",
      "act_nmovies    500 non-null int64\n",
      "actor          500 non-null object\n",
      "dtypes: float64(2), int64(1), object(1)\n",
      "memory usage: 15.7+ KB\n"
     ]
    }
   ],
   "source": [
    "# Clean directors data\n",
    "# Convert str to numeric\n",
    "actor_df.act_agross = pd.to_numeric(actor_df.act_agross.replace(\"\\$\", \"\", regex = True)\n",
    "                                    .replace(\",\", \"\", regex = True).str.strip())\n",
    "actor_df.act_gross = pd.to_numeric(actor_df.act_gross.replace(\"\\$\", \"\", regex = True)\n",
    "                                      .replace(\",\", \"\", regex = True).str.strip())\n",
    "actor_df.act_nmovies = pd.to_numeric(actor_df.act_nmovies)\n",
    "actor_df.info()"
   ]
  },
  {
   "cell_type": "code",
   "execution_count": 30,
   "metadata": {},
   "outputs": [
    {
     "data": {
      "text/html": [
       "<div>\n",
       "<style scoped>\n",
       "    .dataframe tbody tr th:only-of-type {\n",
       "        vertical-align: middle;\n",
       "    }\n",
       "\n",
       "    .dataframe tbody tr th {\n",
       "        vertical-align: top;\n",
       "    }\n",
       "\n",
       "    .dataframe thead th {\n",
       "        text-align: right;\n",
       "    }\n",
       "</style>\n",
       "<table border=\"1\" class=\"dataframe\">\n",
       "  <thead>\n",
       "    <tr style=\"text-align: right;\">\n",
       "      <th></th>\n",
       "      <th>act_agross</th>\n",
       "      <th>act_gross</th>\n",
       "      <th>act_nmovies</th>\n",
       "      <th>actor</th>\n",
       "    </tr>\n",
       "  </thead>\n",
       "  <tbody>\n",
       "    <tr>\n",
       "      <th>0</th>\n",
       "      <td>70.5</td>\n",
       "      <td>5149.1</td>\n",
       "      <td>73</td>\n",
       "      <td>Samuel L. Jackson</td>\n",
       "    </tr>\n",
       "    <tr>\n",
       "      <th>1</th>\n",
       "      <td>118.2</td>\n",
       "      <td>4963.8</td>\n",
       "      <td>42</td>\n",
       "      <td>Harrison Ford</td>\n",
       "    </tr>\n",
       "    <tr>\n",
       "      <th>2</th>\n",
       "      <td>96.0</td>\n",
       "      <td>4605.6</td>\n",
       "      <td>48</td>\n",
       "      <td>Tom Hanks</td>\n",
       "    </tr>\n",
       "    <tr>\n",
       "      <th>3</th>\n",
       "      <td>71.8</td>\n",
       "      <td>4522.2</td>\n",
       "      <td>63</td>\n",
       "      <td>Morgan Freeman</td>\n",
       "    </tr>\n",
       "    <tr>\n",
       "      <th>4</th>\n",
       "      <td>166.7</td>\n",
       "      <td>4333.5</td>\n",
       "      <td>26</td>\n",
       "      <td>Andy Serkis</td>\n",
       "    </tr>\n",
       "  </tbody>\n",
       "</table>\n",
       "</div>"
      ],
      "text/plain": [
       "   act_agross  act_gross  act_nmovies              actor\n",
       "0        70.5     5149.1           73  Samuel L. Jackson\n",
       "1       118.2     4963.8           42      Harrison Ford\n",
       "2        96.0     4605.6           48          Tom Hanks\n",
       "3        71.8     4522.2           63     Morgan Freeman\n",
       "4       166.7     4333.5           26        Andy Serkis"
      ]
     },
     "execution_count": 30,
     "metadata": {},
     "output_type": "execute_result"
    }
   ],
   "source": [
    "actor_df.head()"
   ]
  },
  {
   "cell_type": "code",
   "execution_count": 31,
   "metadata": {
    "scrolled": true
   },
   "outputs": [],
   "source": [
    "# # Split actor & director strings into lists\n",
    "# # for index in range(len(omdb_df)):\n",
    "# #     omdb_df.actors[index] = [x.strip() for x in omdb_df.actors[index].split(',')]\n",
    "# omdb_df.actors = omdb_df.actors.apply(lambda x :[x.strip() for x in x.split(',')])    \n",
    "# omdb_df.director = omdb_df.director.apply(lambda x :[x.strip() for x in x.split(',')])\n",
    "# omdb_df.head()"
   ]
  },
  {
   "cell_type": "code",
   "execution_count": 32,
   "metadata": {},
   "outputs": [
    {
     "data": {
      "text/html": [
       "<div>\n",
       "<style scoped>\n",
       "    .dataframe tbody tr th:only-of-type {\n",
       "        vertical-align: middle;\n",
       "    }\n",
       "\n",
       "    .dataframe tbody tr th {\n",
       "        vertical-align: top;\n",
       "    }\n",
       "\n",
       "    .dataframe thead th {\n",
       "        text-align: right;\n",
       "    }\n",
       "</style>\n",
       "<table border=\"1\" class=\"dataframe\">\n",
       "  <thead>\n",
       "    <tr style=\"text-align: right;\">\n",
       "      <th></th>\n",
       "      <th>movie_name</th>\n",
       "      <th>movie</th>\n",
       "      <th>opening</th>\n",
       "      <th>date_time</th>\n",
       "      <th>theaters</th>\n",
       "      <th>tot_gross</th>\n",
       "      <th>actors</th>\n",
       "      <th>directors</th>\n",
       "      <th>gtrend</th>\n",
       "    </tr>\n",
       "  </thead>\n",
       "  <tbody>\n",
       "    <tr>\n",
       "      <th>0</th>\n",
       "      <td>Black Panther</td>\n",
       "      <td>Black Panther</td>\n",
       "      <td>202003951</td>\n",
       "      <td>2018-02-16</td>\n",
       "      <td>4020</td>\n",
       "      <td>689626132</td>\n",
       "      <td>[Chadwick Boseman, Lupita Nyong'o, Michael B. ...</td>\n",
       "      <td>[Ryan Coogler]</td>\n",
       "      <td>0.458</td>\n",
       "    </tr>\n",
       "    <tr>\n",
       "      <th>1</th>\n",
       "      <td>Avengers: Infinity War</td>\n",
       "      <td>Avengers: Infinity War</td>\n",
       "      <td>257698183</td>\n",
       "      <td>2018-04-27</td>\n",
       "      <td>4474</td>\n",
       "      <td>322831270</td>\n",
       "      <td>[Robert Downey, Jr., Chris Hemsworth, Mark Ruf...</td>\n",
       "      <td>[Joe Russo, Anthony Russo]</td>\n",
       "      <td>0.905</td>\n",
       "    </tr>\n",
       "  </tbody>\n",
       "</table>\n",
       "</div>"
      ],
      "text/plain": [
       "               movie_name                   movie    opening  date_time  \\\n",
       "0           Black Panther           Black Panther  202003951 2018-02-16   \n",
       "1  Avengers: Infinity War  Avengers: Infinity War  257698183 2018-04-27   \n",
       "\n",
       "   theaters  tot_gross                                             actors  \\\n",
       "0      4020  689626132  [Chadwick Boseman, Lupita Nyong'o, Michael B. ...   \n",
       "1      4474  322831270  [Robert Downey, Jr., Chris Hemsworth, Mark Ruf...   \n",
       "\n",
       "                    directors  gtrend  \n",
       "0              [Ryan Coogler]   0.458  \n",
       "1  [Joe Russo, Anthony Russo]   0.905  "
      ]
     },
     "execution_count": 32,
     "metadata": {},
     "output_type": "execute_result"
    }
   ],
   "source": [
    "mojog_df"
   ]
  },
  {
   "cell_type": "code",
   "execution_count": 33,
   "metadata": {},
   "outputs": [
    {
     "data": {
      "text/html": [
       "<div>\n",
       "<style scoped>\n",
       "    .dataframe tbody tr th:only-of-type {\n",
       "        vertical-align: middle;\n",
       "    }\n",
       "\n",
       "    .dataframe tbody tr th {\n",
       "        vertical-align: top;\n",
       "    }\n",
       "\n",
       "    .dataframe thead th {\n",
       "        text-align: right;\n",
       "    }\n",
       "</style>\n",
       "<table border=\"1\" class=\"dataframe\">\n",
       "  <thead>\n",
       "    <tr style=\"text-align: right;\">\n",
       "      <th></th>\n",
       "      <th>movie_name</th>\n",
       "      <th>movie</th>\n",
       "      <th>opening</th>\n",
       "      <th>date_time</th>\n",
       "      <th>theaters</th>\n",
       "      <th>tot_gross</th>\n",
       "      <th>actors</th>\n",
       "      <th>directors</th>\n",
       "      <th>gtrend</th>\n",
       "      <th>unemp_rate</th>\n",
       "    </tr>\n",
       "  </thead>\n",
       "  <tbody>\n",
       "    <tr>\n",
       "      <th>0</th>\n",
       "      <td>Black Panther</td>\n",
       "      <td>Black Panther</td>\n",
       "      <td>202003951</td>\n",
       "      <td>2018-02-16</td>\n",
       "      <td>4020</td>\n",
       "      <td>689626132</td>\n",
       "      <td>[Chadwick Boseman, Lupita Nyong'o, Michael B. ...</td>\n",
       "      <td>[Ryan Coogler]</td>\n",
       "      <td>0.458</td>\n",
       "      <td>4.1</td>\n",
       "    </tr>\n",
       "    <tr>\n",
       "      <th>1</th>\n",
       "      <td>Avengers: Infinity War</td>\n",
       "      <td>Avengers: Infinity War</td>\n",
       "      <td>257698183</td>\n",
       "      <td>2018-04-27</td>\n",
       "      <td>4474</td>\n",
       "      <td>322831270</td>\n",
       "      <td>[Robert Downey, Jr., Chris Hemsworth, Mark Ruf...</td>\n",
       "      <td>[Joe Russo, Anthony Russo]</td>\n",
       "      <td>0.905</td>\n",
       "      <td>4.1</td>\n",
       "    </tr>\n",
       "  </tbody>\n",
       "</table>\n",
       "</div>"
      ],
      "text/plain": [
       "               movie_name                   movie    opening  date_time  \\\n",
       "0           Black Panther           Black Panther  202003951 2018-02-16   \n",
       "1  Avengers: Infinity War  Avengers: Infinity War  257698183 2018-04-27   \n",
       "\n",
       "   theaters  tot_gross                                             actors  \\\n",
       "0      4020  689626132  [Chadwick Boseman, Lupita Nyong'o, Michael B. ...   \n",
       "1      4474  322831270  [Robert Downey, Jr., Chris Hemsworth, Mark Ruf...   \n",
       "\n",
       "                    directors  gtrend  unemp_rate  \n",
       "0              [Ryan Coogler]   0.458         4.1  \n",
       "1  [Joe Russo, Anthony Russo]   0.905         4.1  "
      ]
     },
     "execution_count": 33,
     "metadata": {},
     "output_type": "execute_result"
    }
   ],
   "source": [
    "\n",
    "# unemp rate for this april 2018 was 4.1\n",
    "mojog_df[\"unemp_rate\"] = 4.1\n",
    "mojog_df.head()"
   ]
  },
  {
   "cell_type": "code",
   "execution_count": null,
   "metadata": {},
   "outputs": [],
   "source": []
  },
  {
   "cell_type": "markdown",
   "metadata": {},
   "source": [
    "# Merge the dataframes"
   ]
  },
  {
   "cell_type": "code",
   "execution_count": 34,
   "metadata": {},
   "outputs": [
    {
     "data": {
      "text/html": [
       "<div>\n",
       "<style scoped>\n",
       "    .dataframe tbody tr th:only-of-type {\n",
       "        vertical-align: middle;\n",
       "    }\n",
       "\n",
       "    .dataframe tbody tr th {\n",
       "        vertical-align: top;\n",
       "    }\n",
       "\n",
       "    .dataframe thead th {\n",
       "        text-align: right;\n",
       "    }\n",
       "</style>\n",
       "<table border=\"1\" class=\"dataframe\">\n",
       "  <thead>\n",
       "    <tr style=\"text-align: right;\">\n",
       "      <th></th>\n",
       "      <th>movie_name</th>\n",
       "      <th>movie</th>\n",
       "      <th>opening</th>\n",
       "      <th>date_time</th>\n",
       "      <th>theaters</th>\n",
       "      <th>tot_gross</th>\n",
       "      <th>actors</th>\n",
       "      <th>directors</th>\n",
       "      <th>gtrend</th>\n",
       "      <th>unemp_rate</th>\n",
       "      <th>Yviews</th>\n",
       "      <th>Ycomments</th>\n",
       "      <th>Ydislikes</th>\n",
       "      <th>Ylikes</th>\n",
       "    </tr>\n",
       "  </thead>\n",
       "  <tbody>\n",
       "    <tr>\n",
       "      <th>0</th>\n",
       "      <td>Black Panther</td>\n",
       "      <td>Black Panther</td>\n",
       "      <td>202003951</td>\n",
       "      <td>2018-02-16</td>\n",
       "      <td>4020</td>\n",
       "      <td>689626132</td>\n",
       "      <td>[Chadwick Boseman, Lupita Nyong'o, Michael B. ...</td>\n",
       "      <td>[Ryan Coogler]</td>\n",
       "      <td>0.458</td>\n",
       "      <td>4.1</td>\n",
       "      <td>36956315</td>\n",
       "      <td>58997</td>\n",
       "      <td>14891</td>\n",
       "      <td>407336</td>\n",
       "    </tr>\n",
       "    <tr>\n",
       "      <th>1</th>\n",
       "      <td>Avengers: Infinity War</td>\n",
       "      <td>Avengers: Infinity War</td>\n",
       "      <td>257698183</td>\n",
       "      <td>2018-04-27</td>\n",
       "      <td>4474</td>\n",
       "      <td>322831270</td>\n",
       "      <td>[Robert Downey, Jr., Chris Hemsworth, Mark Ruf...</td>\n",
       "      <td>[Joe Russo, Anthony Russo]</td>\n",
       "      <td>0.905</td>\n",
       "      <td>4.1</td>\n",
       "      <td>74357037</td>\n",
       "      <td>217017</td>\n",
       "      <td>39549</td>\n",
       "      <td>1713010</td>\n",
       "    </tr>\n",
       "  </tbody>\n",
       "</table>\n",
       "</div>"
      ],
      "text/plain": [
       "               movie_name                   movie    opening  date_time  \\\n",
       "0           Black Panther           Black Panther  202003951 2018-02-16   \n",
       "1  Avengers: Infinity War  Avengers: Infinity War  257698183 2018-04-27   \n",
       "\n",
       "   theaters  tot_gross                                             actors  \\\n",
       "0      4020  689626132  [Chadwick Boseman, Lupita Nyong'o, Michael B. ...   \n",
       "1      4474  322831270  [Robert Downey, Jr., Chris Hemsworth, Mark Ruf...   \n",
       "\n",
       "                    directors  gtrend  unemp_rate    Yviews  Ycomments  \\\n",
       "0              [Ryan Coogler]   0.458         4.1  36956315      58997   \n",
       "1  [Joe Russo, Anthony Russo]   0.905         4.1  74357037     217017   \n",
       "\n",
       "   Ydislikes   Ylikes  \n",
       "0      14891   407336  \n",
       "1      39549  1713010  "
      ]
     },
     "execution_count": 34,
     "metadata": {},
     "output_type": "execute_result"
    }
   ],
   "source": [
    "# Merge mojo and youtube\n",
    "merged = pd.DataFrame.merge(mojog_df, youtube_df,on='movie_name', how = 'inner')\n",
    "merged.head()"
   ]
  },
  {
   "cell_type": "code",
   "execution_count": 35,
   "metadata": {},
   "outputs": [
    {
     "data": {
      "text/html": [
       "<div>\n",
       "<style scoped>\n",
       "    .dataframe tbody tr th:only-of-type {\n",
       "        vertical-align: middle;\n",
       "    }\n",
       "\n",
       "    .dataframe tbody tr th {\n",
       "        vertical-align: top;\n",
       "    }\n",
       "\n",
       "    .dataframe thead th {\n",
       "        text-align: right;\n",
       "    }\n",
       "</style>\n",
       "<table border=\"1\" class=\"dataframe\">\n",
       "  <thead>\n",
       "    <tr style=\"text-align: right;\">\n",
       "      <th></th>\n",
       "      <th>movie_name</th>\n",
       "      <th>movie</th>\n",
       "      <th>opening</th>\n",
       "      <th>date_time</th>\n",
       "      <th>theaters</th>\n",
       "      <th>tot_gross</th>\n",
       "      <th>actors</th>\n",
       "      <th>directors</th>\n",
       "      <th>gtrend</th>\n",
       "      <th>unemp_rate</th>\n",
       "      <th>Yviews</th>\n",
       "      <th>Ycomments</th>\n",
       "      <th>Ydislikes</th>\n",
       "      <th>Ylikes</th>\n",
       "      <th>imdb</th>\n",
       "      <th>metacritic</th>\n",
       "      <th>rated</th>\n",
       "      <th>rotten_tomatoes</th>\n",
       "      <th>runtime</th>\n",
       "      <th>year</th>\n",
       "    </tr>\n",
       "  </thead>\n",
       "  <tbody>\n",
       "    <tr>\n",
       "      <th>0</th>\n",
       "      <td>Black Panther</td>\n",
       "      <td>Black Panther</td>\n",
       "      <td>202003951</td>\n",
       "      <td>2018-02-16</td>\n",
       "      <td>4020</td>\n",
       "      <td>689626132</td>\n",
       "      <td>[Chadwick Boseman, Lupita Nyong'o, Michael B. ...</td>\n",
       "      <td>[Ryan Coogler]</td>\n",
       "      <td>0.458</td>\n",
       "      <td>4.1</td>\n",
       "      <td>36956315</td>\n",
       "      <td>58997</td>\n",
       "      <td>14891</td>\n",
       "      <td>407336</td>\n",
       "      <td>7.7</td>\n",
       "      <td>88</td>\n",
       "      <td>PG-13</td>\n",
       "      <td>96</td>\n",
       "      <td>134</td>\n",
       "      <td>2018</td>\n",
       "    </tr>\n",
       "    <tr>\n",
       "      <th>1</th>\n",
       "      <td>Avengers: Infinity War</td>\n",
       "      <td>Avengers: Infinity War</td>\n",
       "      <td>257698183</td>\n",
       "      <td>2018-04-27</td>\n",
       "      <td>4474</td>\n",
       "      <td>322831270</td>\n",
       "      <td>[Robert Downey, Jr., Chris Hemsworth, Mark Ruf...</td>\n",
       "      <td>[Joe Russo, Anthony Russo]</td>\n",
       "      <td>0.905</td>\n",
       "      <td>4.1</td>\n",
       "      <td>74357037</td>\n",
       "      <td>217017</td>\n",
       "      <td>39549</td>\n",
       "      <td>1713010</td>\n",
       "      <td>9.0</td>\n",
       "      <td>68</td>\n",
       "      <td>PG-13</td>\n",
       "      <td>84</td>\n",
       "      <td>149</td>\n",
       "      <td>2018</td>\n",
       "    </tr>\n",
       "  </tbody>\n",
       "</table>\n",
       "</div>"
      ],
      "text/plain": [
       "               movie_name                   movie    opening  date_time  \\\n",
       "0           Black Panther           Black Panther  202003951 2018-02-16   \n",
       "1  Avengers: Infinity War  Avengers: Infinity War  257698183 2018-04-27   \n",
       "\n",
       "   theaters  tot_gross                                             actors  \\\n",
       "0      4020  689626132  [Chadwick Boseman, Lupita Nyong'o, Michael B. ...   \n",
       "1      4474  322831270  [Robert Downey, Jr., Chris Hemsworth, Mark Ruf...   \n",
       "\n",
       "                    directors  gtrend  unemp_rate    Yviews  Ycomments  \\\n",
       "0              [Ryan Coogler]   0.458         4.1  36956315      58997   \n",
       "1  [Joe Russo, Anthony Russo]   0.905         4.1  74357037     217017   \n",
       "\n",
       "   Ydislikes   Ylikes  imdb  metacritic  rated  rotten_tomatoes  runtime  year  \n",
       "0      14891   407336   7.7          88  PG-13               96      134  2018  \n",
       "1      39549  1713010   9.0          68  PG-13               84      149  2018  "
      ]
     },
     "execution_count": 35,
     "metadata": {},
     "output_type": "execute_result"
    }
   ],
   "source": [
    "# Merge omdb\n",
    "merged2 = pd.DataFrame.merge(merged,omdb_df,on=\"movie\",how=\"inner\")\n",
    "merged2.head()"
   ]
  },
  {
   "cell_type": "code",
   "execution_count": 36,
   "metadata": {},
   "outputs": [
    {
     "data": {
      "text/html": [
       "<div>\n",
       "<style scoped>\n",
       "    .dataframe tbody tr th:only-of-type {\n",
       "        vertical-align: middle;\n",
       "    }\n",
       "\n",
       "    .dataframe tbody tr th {\n",
       "        vertical-align: top;\n",
       "    }\n",
       "\n",
       "    .dataframe thead th {\n",
       "        text-align: right;\n",
       "    }\n",
       "</style>\n",
       "<table border=\"1\" class=\"dataframe\">\n",
       "  <thead>\n",
       "    <tr style=\"text-align: right;\">\n",
       "      <th></th>\n",
       "      <th>movie_name</th>\n",
       "      <th>movie</th>\n",
       "      <th>opening</th>\n",
       "      <th>date_time</th>\n",
       "      <th>theaters</th>\n",
       "      <th>tot_gross</th>\n",
       "      <th>actors</th>\n",
       "      <th>directors</th>\n",
       "      <th>unemp_rate</th>\n",
       "      <th>imdb</th>\n",
       "      <th>metacritic</th>\n",
       "      <th>rated</th>\n",
       "      <th>rotten_tomatoes</th>\n",
       "      <th>runtime</th>\n",
       "      <th>year</th>\n",
       "      <th>Yviews_adj</th>\n",
       "      <th>Ylikes_adj</th>\n",
       "      <th>Ydis_adj</th>\n",
       "      <th>Ycom_adj</th>\n",
       "    </tr>\n",
       "  </thead>\n",
       "  <tbody>\n",
       "    <tr>\n",
       "      <th>0</th>\n",
       "      <td>Black Panther</td>\n",
       "      <td>Black Panther</td>\n",
       "      <td>202003951</td>\n",
       "      <td>2018-02-16</td>\n",
       "      <td>4020</td>\n",
       "      <td>689626132</td>\n",
       "      <td>[Chadwick Boseman, Lupita Nyong'o, Michael B. ...</td>\n",
       "      <td>[Ryan Coogler]</td>\n",
       "      <td>4.1</td>\n",
       "      <td>7.7</td>\n",
       "      <td>88</td>\n",
       "      <td>PG-13</td>\n",
       "      <td>96</td>\n",
       "      <td>134</td>\n",
       "      <td>2018</td>\n",
       "      <td>16925992.0</td>\n",
       "      <td>186560.0</td>\n",
       "      <td>6820.0</td>\n",
       "      <td>27021.0</td>\n",
       "    </tr>\n",
       "    <tr>\n",
       "      <th>1</th>\n",
       "      <td>Avengers: Infinity War</td>\n",
       "      <td>Avengers: Infinity War</td>\n",
       "      <td>257698183</td>\n",
       "      <td>2018-04-27</td>\n",
       "      <td>4474</td>\n",
       "      <td>322831270</td>\n",
       "      <td>[Robert Downey, Jr., Chris Hemsworth, Mark Ruf...</td>\n",
       "      <td>[Joe Russo, Anthony Russo]</td>\n",
       "      <td>4.1</td>\n",
       "      <td>9.0</td>\n",
       "      <td>68</td>\n",
       "      <td>PG-13</td>\n",
       "      <td>84</td>\n",
       "      <td>149</td>\n",
       "      <td>2018</td>\n",
       "      <td>67293118.0</td>\n",
       "      <td>1550274.0</td>\n",
       "      <td>35792.0</td>\n",
       "      <td>196400.0</td>\n",
       "    </tr>\n",
       "  </tbody>\n",
       "</table>\n",
       "</div>"
      ],
      "text/plain": [
       "               movie_name                   movie    opening  date_time  \\\n",
       "0           Black Panther           Black Panther  202003951 2018-02-16   \n",
       "1  Avengers: Infinity War  Avengers: Infinity War  257698183 2018-04-27   \n",
       "\n",
       "   theaters  tot_gross                                             actors  \\\n",
       "0      4020  689626132  [Chadwick Boseman, Lupita Nyong'o, Michael B. ...   \n",
       "1      4474  322831270  [Robert Downey, Jr., Chris Hemsworth, Mark Ruf...   \n",
       "\n",
       "                    directors  unemp_rate  imdb  metacritic  rated  \\\n",
       "0              [Ryan Coogler]         4.1   7.7          88  PG-13   \n",
       "1  [Joe Russo, Anthony Russo]         4.1   9.0          68  PG-13   \n",
       "\n",
       "   rotten_tomatoes  runtime  year  Yviews_adj  Ylikes_adj  Ydis_adj  Ycom_adj  \n",
       "0               96      134  2018  16925992.0    186560.0    6820.0   27021.0  \n",
       "1               84      149  2018  67293118.0   1550274.0   35792.0  196400.0  "
      ]
     },
     "execution_count": 36,
     "metadata": {},
     "output_type": "execute_result"
    }
   ],
   "source": [
    "# Adjust the youtube views based on google trends data\n",
    "merged2[\"Yviews_adj\"] = round(merged2.Yviews * merged2.gtrend)\n",
    "merged2[\"Ylikes_adj\"] = round(merged2.Ylikes * merged2.gtrend)\n",
    "merged2[\"Ydis_adj\"] = round(merged2.Ydislikes * merged2.gtrend)\n",
    "merged2[\"Ycom_adj\"] = round(merged2.Ycomments * merged2.gtrend)\n",
    "#merged2[\"Yviews_adj2\"] = round(merged2.Yviews * merged2.gtrend)\n",
    "merged2 = merged2.drop([\"gtrend\",\"Yviews\",\"Ycomments\",\"Ylikes\",\"Ydislikes\"],1)\n",
    "#merged2 = merged2.drop([\"gtrend\",\"gtrend2\"],1)\n",
    "merged2"
   ]
  },
  {
   "cell_type": "code",
   "execution_count": 37,
   "metadata": {},
   "outputs": [],
   "source": [
    "# First create a dataframe for year and corresponding movie ticket\n",
    "merged2[\"tick\"] = 9.16\n",
    "# Create new column for merged\n",
    "est_tick = (merged2.opening // merged2.tick).astype(\"int64\")\n",
    "merged2.insert(loc=3, column='est_tick', value=est_tick)\n",
    "merged2 = merged2.rename(columns={\"opening\":\"op_gross\"})"
   ]
  },
  {
   "cell_type": "code",
   "execution_count": 38,
   "metadata": {},
   "outputs": [],
   "source": [
    "merged2 = merged2.fillna(0)"
   ]
  },
  {
   "cell_type": "code",
   "execution_count": 39,
   "metadata": {},
   "outputs": [
    {
     "data": {
      "text/plain": [
       "Index(['movie_name', 'movie', 'op_gross', 'est_tick', 'date_time', 'theaters',\n",
       "       'tot_gross', 'actors', 'directors', 'unemp_rate', 'imdb', 'metacritic',\n",
       "       'rated', 'rotten_tomatoes', 'runtime', 'year', 'Yviews_adj',\n",
       "       'Ylikes_adj', 'Ydis_adj', 'Ycom_adj', 'tick'],\n",
       "      dtype='object')"
      ]
     },
     "execution_count": 39,
     "metadata": {},
     "output_type": "execute_result"
    }
   ],
   "source": [
    "merged2.columns"
   ]
  },
  {
   "cell_type": "markdown",
   "metadata": {},
   "source": [
    "# Generate a metric for actor and directors"
   ]
  },
  {
   "cell_type": "markdown",
   "metadata": {},
   "source": [
    "#### actors\n",
    "I took the max total gross or total # movies featured for the actor/director for each given movie."
   ]
  },
  {
   "cell_type": "code",
   "execution_count": 40,
   "metadata": {},
   "outputs": [],
   "source": [
    "import numpy as np\n",
    "\n",
    "act_list = []\n",
    "for i in range(len(merged2)):\n",
    "    #for each of the actors in a given movie, sum up their total gross & movies\n",
    "    gross_list = []\n",
    "    nmovies_list = []\n",
    "    if (merged2.actors[i] == 0) or (merged2.actors[i] == []):\n",
    "        act_gross, act_nmovies = 0, 0\n",
    "    else:\n",
    "        actor_count = len(merged2.actors[i])\n",
    "        for actoriter in merged2.actors[i]:\n",
    "            if actor_df[actor_df.actor == actoriter].empty:\n",
    "                actor_count -= 1\n",
    "            #Subtract the movie total gross (movie i want to predict) from actor total gross\n",
    "            else:\n",
    "                gross_list.append(actor_df[actor_df.actor == actoriter].act_gross.iloc[0] - \\\n",
    "                merged2.tot_gross[i]/(1e6))\n",
    "                nmovies_list.append(actor_df[actor_df.actor == actoriter].act_nmovies.iloc[0])\n",
    "    #take the sum and average over number of actors featured\n",
    "    if (actor_count <= 0) or (merged2.actors[i] == []) or (merged2.actors[i] == 0):\n",
    "        act_gross, act_nmovies = 0, 0\n",
    "    else:\n",
    "        act_gross = round(max(gross_list),1)\n",
    "        act_nmovies = round(max(nmovies_list),1)\n",
    "    act_dict = {'movie': merged2.movie[i], 'act_gross':act_gross, \n",
    "                'act_nmovies': act_nmovies}\n",
    "    act_list.append(act_dict)\n",
    "actor_metric = pd.DataFrame(act_list)"
   ]
  },
  {
   "cell_type": "markdown",
   "metadata": {},
   "source": [
    "#### directors"
   ]
  },
  {
   "cell_type": "code",
   "execution_count": 41,
   "metadata": {},
   "outputs": [],
   "source": [
    "import numpy as np\n",
    "\n",
    "dir_list = []\n",
    "for i in range(len(merged2)):\n",
    "    #for each of the actors in a given movie, sum up their total gross & movies\n",
    "    gross_list = []\n",
    "    nmovies_list = []\n",
    "    if (merged2.directors[i] == 0) or (merged2.directors[i] == []):\n",
    "        dir_gross, dir_nmovies = 0, 0\n",
    "    else:\n",
    "        director_count = len(merged2.directors[i])\n",
    "        for directoriter in merged2.directors[i]:\n",
    "            if director_df[director_df.director == directoriter].empty:\n",
    "                director_count -= 1\n",
    "            #Subtract the movie total gross (movie i want to predict) from actor total gross\n",
    "            else:\n",
    "                gross_list.append(director_df[director_df.director == directoriter].\n",
    "                                  dir_gross.iloc[0] - \\\n",
    "                merged2.tot_gross[i]/(1e6))\n",
    "                nmovies_list.append(director_df[director_df.director == directoriter]\n",
    "                                    .dir_nmovies.iloc[0])\n",
    "    #take the sum and average over number of actors featured\n",
    "    if (director_count <= 0) or (merged2.directors[i] == []) or (merged2.directors[i] == 0):\n",
    "        dir_gross, dir_nmovies = 0, 0\n",
    "    else:\n",
    "        dir_gross = round(max(gross_list),1)\n",
    "        dir_nmovies = round(max(nmovies_list),1)\n",
    "    dir_dict = {'movie': merged2.movie[i], 'dir_gross':dir_gross, \n",
    "                'dir_nmovies': dir_nmovies}\n",
    "    dir_list.append(dir_dict)\n",
    "director_metric = pd.DataFrame(dir_list)"
   ]
  },
  {
   "cell_type": "markdown",
   "metadata": {},
   "source": [
    "# Merge the director & actor metrics to df"
   ]
  },
  {
   "cell_type": "code",
   "execution_count": 42,
   "metadata": {},
   "outputs": [
    {
     "data": {
      "text/html": [
       "<div>\n",
       "<style scoped>\n",
       "    .dataframe tbody tr th:only-of-type {\n",
       "        vertical-align: middle;\n",
       "    }\n",
       "\n",
       "    .dataframe tbody tr th {\n",
       "        vertical-align: top;\n",
       "    }\n",
       "\n",
       "    .dataframe thead th {\n",
       "        text-align: right;\n",
       "    }\n",
       "</style>\n",
       "<table border=\"1\" class=\"dataframe\">\n",
       "  <thead>\n",
       "    <tr style=\"text-align: right;\">\n",
       "      <th></th>\n",
       "      <th>movie_name</th>\n",
       "      <th>movie</th>\n",
       "      <th>op_gross</th>\n",
       "      <th>est_tick</th>\n",
       "      <th>date_time</th>\n",
       "      <th>theaters</th>\n",
       "      <th>tot_gross</th>\n",
       "      <th>unemp_rate</th>\n",
       "      <th>imdb</th>\n",
       "      <th>metacritic</th>\n",
       "      <th>...</th>\n",
       "      <th>year</th>\n",
       "      <th>Yviews_adj</th>\n",
       "      <th>Ylikes_adj</th>\n",
       "      <th>Ydis_adj</th>\n",
       "      <th>Ycom_adj</th>\n",
       "      <th>tick</th>\n",
       "      <th>act_gross</th>\n",
       "      <th>act_nmovies</th>\n",
       "      <th>dir_gross</th>\n",
       "      <th>dir_nmovies</th>\n",
       "    </tr>\n",
       "  </thead>\n",
       "  <tbody>\n",
       "    <tr>\n",
       "      <th>0</th>\n",
       "      <td>Black Panther</td>\n",
       "      <td>Black Panther</td>\n",
       "      <td>202003951</td>\n",
       "      <td>22052833</td>\n",
       "      <td>2018-02-16</td>\n",
       "      <td>4020</td>\n",
       "      <td>689626132</td>\n",
       "      <td>4.1</td>\n",
       "      <td>7.7</td>\n",
       "      <td>88</td>\n",
       "      <td>...</td>\n",
       "      <td>2018</td>\n",
       "      <td>16925992.0</td>\n",
       "      <td>186560.0</td>\n",
       "      <td>6820.0</td>\n",
       "      <td>27021.0</td>\n",
       "      <td>9.16</td>\n",
       "      <td>3643.9</td>\n",
       "      <td>56</td>\n",
       "      <td>112.2</td>\n",
       "      <td>3</td>\n",
       "    </tr>\n",
       "    <tr>\n",
       "      <th>1</th>\n",
       "      <td>Avengers: Infinity War</td>\n",
       "      <td>Avengers: Infinity War</td>\n",
       "      <td>257698183</td>\n",
       "      <td>28132989</td>\n",
       "      <td>2018-04-27</td>\n",
       "      <td>4474</td>\n",
       "      <td>322831270</td>\n",
       "      <td>4.1</td>\n",
       "      <td>9.0</td>\n",
       "      <td>68</td>\n",
       "      <td>...</td>\n",
       "      <td>2018</td>\n",
       "      <td>67293118.0</td>\n",
       "      <td>1550274.0</td>\n",
       "      <td>35792.0</td>\n",
       "      <td>196400.0</td>\n",
       "      <td>9.16</td>\n",
       "      <td>3372.6</td>\n",
       "      <td>41</td>\n",
       "      <td>421.0</td>\n",
       "      <td>4</td>\n",
       "    </tr>\n",
       "  </tbody>\n",
       "</table>\n",
       "<p>2 rows × 23 columns</p>\n",
       "</div>"
      ],
      "text/plain": [
       "               movie_name                   movie   op_gross  est_tick  \\\n",
       "0           Black Panther           Black Panther  202003951  22052833   \n",
       "1  Avengers: Infinity War  Avengers: Infinity War  257698183  28132989   \n",
       "\n",
       "   date_time  theaters  tot_gross  unemp_rate  imdb  metacritic     ...       \\\n",
       "0 2018-02-16      4020  689626132         4.1   7.7          88     ...        \n",
       "1 2018-04-27      4474  322831270         4.1   9.0          68     ...        \n",
       "\n",
       "   year  Yviews_adj  Ylikes_adj  Ydis_adj  Ycom_adj  tick  act_gross  \\\n",
       "0  2018  16925992.0    186560.0    6820.0   27021.0  9.16     3643.9   \n",
       "1  2018  67293118.0   1550274.0   35792.0  196400.0  9.16     3372.6   \n",
       "\n",
       "   act_nmovies  dir_gross  dir_nmovies  \n",
       "0           56      112.2            3  \n",
       "1           41      421.0            4  \n",
       "\n",
       "[2 rows x 23 columns]"
      ]
     },
     "execution_count": 42,
     "metadata": {},
     "output_type": "execute_result"
    }
   ],
   "source": [
    "merged2 = pd.merge(merged2, actor_metric, on=\"movie\", how=\"inner\")\n",
    "merged2 = pd.merge(merged2, director_metric, on=\"movie\", how=\"inner\")\n",
    "merged2 = merged2.drop([\"actors\",\"directors\"],1)\n",
    "merged2.head()"
   ]
  },
  {
   "cell_type": "markdown",
   "metadata": {},
   "source": [
    "### Save the merged dataframe"
   ]
  },
  {
   "cell_type": "code",
   "execution_count": 43,
   "metadata": {},
   "outputs": [],
   "source": [
    "merged2.to_pickle(\"data/merged_2018.pkl\")"
   ]
  },
  {
   "cell_type": "code",
   "execution_count": null,
   "metadata": {},
   "outputs": [],
   "source": [
    "len(merged2[(merged2.dir_nmovies == 0)])# | (merged2.act_gross == 0)])"
   ]
  },
  {
   "cell_type": "code",
   "execution_count": null,
   "metadata": {},
   "outputs": [],
   "source": []
  }
 ],
 "metadata": {
  "kernelspec": {
   "display_name": "Python 3",
   "language": "python",
   "name": "python3"
  },
  "language_info": {
   "codemirror_mode": {
    "name": "ipython",
    "version": 3
   },
   "file_extension": ".py",
   "mimetype": "text/x-python",
   "name": "python",
   "nbconvert_exporter": "python",
   "pygments_lexer": "ipython3",
   "version": "3.6.4"
  },
  "toc": {
   "base_numbering": 1,
   "nav_menu": {},
   "number_sections": true,
   "sideBar": true,
   "skip_h1_title": false,
   "title_cell": "Table of Contents",
   "title_sidebar": "Contents",
   "toc_cell": false,
   "toc_position": {},
   "toc_section_display": true,
   "toc_window_display": false
  }
 },
 "nbformat": 4,
 "nbformat_minor": 2
}
