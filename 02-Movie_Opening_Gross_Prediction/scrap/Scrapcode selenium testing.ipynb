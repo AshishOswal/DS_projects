{
 "cells": [
  {
   "cell_type": "markdown",
   "metadata": {},
   "source": [
    "# Selenium test"
   ]
  },
  {
   "cell_type": "code",
   "execution_count": 1,
   "metadata": {},
   "outputs": [],
   "source": [
    "# import selenium and run chromedriver\n",
    "\n",
    "# !pip install selenium \n",
    "# download chromedriver: https://sites.google.com/a/chromium.org/chromedriver/downloads      \n",
    "\n",
    "from selenium import webdriver\n",
    "from selenium.webdriver.common.keys import Keys\n",
    "from selenium.webdriver.support.ui import Select\n",
    "import time\n",
    "import os\n",
    "\n",
    "chromedriver = \"/Users/petermin/Downloads/chromedriver\" # path to the chromedriver executable\n",
    "os.environ[\"webdriver.chrome.driver\"] = chromedriver\n",
    "driver = webdriver.Chrome(chromedriver)\n",
    "#driver.get(\"https://trends.google.com/trends/\")"
   ]
  },
  {
   "cell_type": "code",
   "execution_count": null,
   "metadata": {},
   "outputs": [],
   "source": [
    "# search the movie in google trends\n",
    "#link with geo set as US and youtube searches\n",
    "driver.get('https://trends.google.com/trends/explore?geo=US&gprop=youtube')\n",
    "search_term = driver.find_element_by_css_selector(\"input\")\n",
    "#time.sleep(1)\n",
    "search_term.send_keys(\"Dunkirk\")\n",
    "#time.sleep(2)\n",
    "search_term.send_keys(Keys.RETURN)"
   ]
  },
  {
   "cell_type": "code",
   "execution_count": null,
   "metadata": {},
   "outputs": [],
   "source": [
    "#select_date = Select(driver.find_element_by_css_selector(\"md-select-value\"))\n",
    "#select_date.click()\n",
    "#driver.find_element_by_xpath(\"//md-option[@name='Custom time range...']/option[text()='option_text']\").click()"
   ]
  },
  {
   "cell_type": "code",
   "execution_count": null,
   "metadata": {},
   "outputs": [],
   "source": [
    "#select_date.select_by_visible_text('select_option_30')"
   ]
  },
  {
   "cell_type": "code",
   "execution_count": null,
   "metadata": {},
   "outputs": [],
   "source": [
    "#select_date = Select(driver.find_element_by_css_selector(\"md-select-value\"))\n",
    "#select_date = Select(driver.find_element_by_id(\"select_value_label_16\"))\n",
    "\n",
    "#select = driver.find_element_by_xpath(\"//custom-date-picker/ng-include/md-select\")\n",
    "#driver.find_element_by_xpath(\"//md-select-value\").click()\n",
    "\n",
    "#driver.find_element_by_id(\"select_container_18\")\n",
    "\n",
    "\n",
    "# select = driver.find_element_by_xpath(\"//md-select-menu/md-content\")\n",
    "# for option in select.find_elements_by_tag_name('md-option'):\n",
    "#     if option.id == \"select_option_30\":\n",
    "#         option.click()"
   ]
  }
 ],
 "metadata": {
  "kernelspec": {
   "display_name": "Python 3",
   "language": "python",
   "name": "python3"
  },
  "language_info": {
   "codemirror_mode": {
    "name": "ipython",
    "version": 3
   },
   "file_extension": ".py",
   "mimetype": "text/x-python",
   "name": "python",
   "nbconvert_exporter": "python",
   "pygments_lexer": "ipython3",
   "version": "3.6.4"
  },
  "toc": {
   "base_numbering": 1,
   "nav_menu": {},
   "number_sections": true,
   "sideBar": true,
   "skip_h1_title": false,
   "title_cell": "Table of Contents",
   "title_sidebar": "Contents",
   "toc_cell": false,
   "toc_position": {},
   "toc_section_display": true,
   "toc_window_display": false
  }
 },
 "nbformat": 4,
 "nbformat_minor": 2
}
